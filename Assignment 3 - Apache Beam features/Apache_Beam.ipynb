{
  "nbformat": 4,
  "nbformat_minor": 0,
  "metadata": {
    "colab": {
      "provenance": []
    },
    "kernelspec": {
      "name": "python3",
      "display_name": "Python 3"
    },
    "language_info": {
      "name": "python"
    }
  },
  "cells": [
    {
      "cell_type": "markdown",
      "source": [
        "# Setting up Apache Beam in Google Colab:"
      ],
      "metadata": {
        "id": "2h-Gw_VD6W40"
      }
    },
    {
      "cell_type": "code",
      "execution_count": 2,
      "metadata": {
        "colab": {
          "base_uri": "https://localhost:8080/"
        },
        "id": "rn2UJqix1CxX",
        "outputId": "2f0c6043-7ff3-4637-fc67-70b51b431b64"
      },
      "outputs": [
        {
          "output_type": "stream",
          "name": "stdout",
          "text": [
            "Requirement already satisfied: apache-beam[interactive] in /usr/local/lib/python3.10/dist-packages (2.51.0)\n",
            "Requirement already satisfied: crcmod<2.0,>=1.7 in /usr/local/lib/python3.10/dist-packages (from apache-beam[interactive]) (1.7)\n",
            "Requirement already satisfied: orjson<4,>=3.9.7 in /usr/local/lib/python3.10/dist-packages (from apache-beam[interactive]) (3.9.9)\n",
            "Requirement already satisfied: dill<0.3.2,>=0.3.1.1 in /usr/local/lib/python3.10/dist-packages (from apache-beam[interactive]) (0.3.1.1)\n",
            "Requirement already satisfied: cloudpickle~=2.2.1 in /usr/local/lib/python3.10/dist-packages (from apache-beam[interactive]) (2.2.1)\n",
            "Requirement already satisfied: fastavro<2,>=0.23.6 in /usr/local/lib/python3.10/dist-packages (from apache-beam[interactive]) (1.8.4)\n",
            "Requirement already satisfied: fasteners<1.0,>=0.3 in /usr/local/lib/python3.10/dist-packages (from apache-beam[interactive]) (0.19)\n",
            "Requirement already satisfied: grpcio!=1.48.0,<2,>=1.33.1 in /usr/local/lib/python3.10/dist-packages (from apache-beam[interactive]) (1.59.0)\n",
            "Requirement already satisfied: hdfs<3.0.0,>=2.1.0 in /usr/local/lib/python3.10/dist-packages (from apache-beam[interactive]) (2.7.3)\n",
            "Requirement already satisfied: httplib2<0.23.0,>=0.8 in /usr/local/lib/python3.10/dist-packages (from apache-beam[interactive]) (0.22.0)\n",
            "Requirement already satisfied: js2py<1,>=0.74 in /usr/local/lib/python3.10/dist-packages (from apache-beam[interactive]) (0.74)\n",
            "Requirement already satisfied: numpy<1.25.0,>=1.14.3 in /usr/local/lib/python3.10/dist-packages (from apache-beam[interactive]) (1.23.5)\n",
            "Requirement already satisfied: objsize<0.7.0,>=0.6.1 in /usr/local/lib/python3.10/dist-packages (from apache-beam[interactive]) (0.6.1)\n",
            "Requirement already satisfied: packaging>=22.0 in /usr/local/lib/python3.10/dist-packages (from apache-beam[interactive]) (23.2)\n",
            "Requirement already satisfied: pymongo<5.0.0,>=3.8.0 in /usr/local/lib/python3.10/dist-packages (from apache-beam[interactive]) (4.5.0)\n",
            "Requirement already satisfied: proto-plus<2,>=1.7.1 in /usr/local/lib/python3.10/dist-packages (from apache-beam[interactive]) (1.22.3)\n",
            "Requirement already satisfied: protobuf!=4.0.*,!=4.21.*,!=4.22.0,!=4.23.*,!=4.24.0,!=4.24.1,!=4.24.2,<4.25.0,>=3.20.3 in /usr/local/lib/python3.10/dist-packages (from apache-beam[interactive]) (3.20.3)\n",
            "Requirement already satisfied: pydot<2,>=1.2.0 in /usr/local/lib/python3.10/dist-packages (from apache-beam[interactive]) (1.4.2)\n",
            "Requirement already satisfied: python-dateutil<3,>=2.8.0 in /usr/local/lib/python3.10/dist-packages (from apache-beam[interactive]) (2.8.2)\n",
            "Requirement already satisfied: pytz>=2018.3 in /usr/local/lib/python3.10/dist-packages (from apache-beam[interactive]) (2023.3.post1)\n",
            "Requirement already satisfied: regex>=2020.6.8 in /usr/local/lib/python3.10/dist-packages (from apache-beam[interactive]) (2023.6.3)\n",
            "Requirement already satisfied: requests<3.0.0,>=2.24.0 in /usr/local/lib/python3.10/dist-packages (from apache-beam[interactive]) (2.31.0)\n",
            "Requirement already satisfied: typing-extensions>=3.7.0 in /usr/local/lib/python3.10/dist-packages (from apache-beam[interactive]) (4.5.0)\n",
            "Requirement already satisfied: zstandard<1,>=0.18.0 in /usr/local/lib/python3.10/dist-packages (from apache-beam[interactive]) (0.21.0)\n",
            "Requirement already satisfied: pyarrow<12.0.0,>=3.0.0 in /usr/local/lib/python3.10/dist-packages (from apache-beam[interactive]) (9.0.0)\n",
            "Requirement already satisfied: facets-overview<2,>=1.1.0 in /usr/local/lib/python3.10/dist-packages (from apache-beam[interactive]) (1.1.1)\n",
            "Requirement already satisfied: google-cloud-dataproc<6,>=5.0.0 in /usr/local/lib/python3.10/dist-packages (from apache-beam[interactive]) (5.6.0)\n",
            "Requirement already satisfied: ipython<9,>=8 in /usr/local/lib/python3.10/dist-packages (from apache-beam[interactive]) (8.16.1)\n",
            "Requirement already satisfied: ipykernel<7,>=6 in /usr/local/lib/python3.10/dist-packages (from apache-beam[interactive]) (6.25.2)\n",
            "Requirement already satisfied: ipywidgets<9,>=8 in /usr/local/lib/python3.10/dist-packages (from apache-beam[interactive]) (8.1.1)\n",
            "Requirement already satisfied: jupyter-client!=6.1.13,<8.2.1,>=6.1.11 in /usr/local/lib/python3.10/dist-packages (from apache-beam[interactive]) (6.1.12)\n",
            "Requirement already satisfied: timeloop<2,>=1.0.2 in /usr/local/lib/python3.10/dist-packages (from apache-beam[interactive]) (1.0.2)\n",
            "Requirement already satisfied: nbformat<6,>=5.0.5 in /usr/local/lib/python3.10/dist-packages (from apache-beam[interactive]) (5.9.2)\n",
            "Requirement already satisfied: nbconvert<8,>=6.2.0 in /usr/local/lib/python3.10/dist-packages (from apache-beam[interactive]) (6.5.4)\n",
            "Requirement already satisfied: pandas!=1.5.0,!=1.5.1,<1.6,>=1.4.3 in /usr/local/lib/python3.10/dist-packages (from apache-beam[interactive]) (1.5.3)\n",
            "Requirement already satisfied: google-api-core[grpc]!=2.0.*,!=2.1.*,!=2.10.*,!=2.2.*,!=2.3.*,!=2.4.*,!=2.5.*,!=2.6.*,!=2.7.*,!=2.8.*,!=2.9.*,<3.0.0dev,>=1.34.0 in /usr/local/lib/python3.10/dist-packages (from google-cloud-dataproc<6,>=5.0.0->apache-beam[interactive]) (2.11.1)\n",
            "Requirement already satisfied: grpc-google-iam-v1<1.0.0dev,>=0.12.4 in /usr/local/lib/python3.10/dist-packages (from google-cloud-dataproc<6,>=5.0.0->apache-beam[interactive]) (0.12.6)\n",
            "Requirement already satisfied: docopt in /usr/local/lib/python3.10/dist-packages (from hdfs<3.0.0,>=2.1.0->apache-beam[interactive]) (0.6.2)\n",
            "Requirement already satisfied: six>=1.9.0 in /usr/local/lib/python3.10/dist-packages (from hdfs<3.0.0,>=2.1.0->apache-beam[interactive]) (1.16.0)\n",
            "Requirement already satisfied: pyparsing!=3.0.0,!=3.0.1,!=3.0.2,!=3.0.3,<4,>=2.4.2 in /usr/local/lib/python3.10/dist-packages (from httplib2<0.23.0,>=0.8->apache-beam[interactive]) (3.1.1)\n",
            "Requirement already satisfied: comm>=0.1.1 in /usr/local/lib/python3.10/dist-packages (from ipykernel<7,>=6->apache-beam[interactive]) (0.1.4)\n",
            "Requirement already satisfied: debugpy>=1.6.5 in /usr/local/lib/python3.10/dist-packages (from ipykernel<7,>=6->apache-beam[interactive]) (1.6.6)\n",
            "Requirement already satisfied: jupyter-core!=5.0.*,>=4.12 in /usr/local/lib/python3.10/dist-packages (from ipykernel<7,>=6->apache-beam[interactive]) (5.4.0)\n",
            "Requirement already satisfied: matplotlib-inline>=0.1 in /usr/local/lib/python3.10/dist-packages (from ipykernel<7,>=6->apache-beam[interactive]) (0.1.6)\n",
            "Requirement already satisfied: nest-asyncio in /usr/local/lib/python3.10/dist-packages (from ipykernel<7,>=6->apache-beam[interactive]) (1.5.8)\n",
            "Requirement already satisfied: psutil in /usr/local/lib/python3.10/dist-packages (from ipykernel<7,>=6->apache-beam[interactive]) (5.9.5)\n",
            "Requirement already satisfied: pyzmq>=20 in /usr/local/lib/python3.10/dist-packages (from ipykernel<7,>=6->apache-beam[interactive]) (23.2.1)\n",
            "Requirement already satisfied: tornado>=6.1 in /usr/local/lib/python3.10/dist-packages (from ipykernel<7,>=6->apache-beam[interactive]) (6.3.2)\n",
            "Requirement already satisfied: traitlets>=5.4.0 in /usr/local/lib/python3.10/dist-packages (from ipykernel<7,>=6->apache-beam[interactive]) (5.7.1)\n",
            "Requirement already satisfied: backcall in /usr/local/lib/python3.10/dist-packages (from ipython<9,>=8->apache-beam[interactive]) (0.2.0)\n",
            "Requirement already satisfied: decorator in /usr/local/lib/python3.10/dist-packages (from ipython<9,>=8->apache-beam[interactive]) (4.4.2)\n",
            "Requirement already satisfied: jedi>=0.16 in /usr/local/lib/python3.10/dist-packages (from ipython<9,>=8->apache-beam[interactive]) (0.19.1)\n",
            "Requirement already satisfied: pickleshare in /usr/local/lib/python3.10/dist-packages (from ipython<9,>=8->apache-beam[interactive]) (0.7.5)\n",
            "Requirement already satisfied: prompt-toolkit!=3.0.37,<3.1.0,>=3.0.30 in /usr/local/lib/python3.10/dist-packages (from ipython<9,>=8->apache-beam[interactive]) (3.0.39)\n",
            "Requirement already satisfied: pygments>=2.4.0 in /usr/local/lib/python3.10/dist-packages (from ipython<9,>=8->apache-beam[interactive]) (2.16.1)\n",
            "Requirement already satisfied: stack-data in /usr/local/lib/python3.10/dist-packages (from ipython<9,>=8->apache-beam[interactive]) (0.6.3)\n",
            "Requirement already satisfied: exceptiongroup in /usr/local/lib/python3.10/dist-packages (from ipython<9,>=8->apache-beam[interactive]) (1.1.3)\n",
            "Requirement already satisfied: pexpect>4.3 in /usr/local/lib/python3.10/dist-packages (from ipython<9,>=8->apache-beam[interactive]) (4.8.0)\n",
            "Requirement already satisfied: widgetsnbextension~=4.0.9 in /usr/local/lib/python3.10/dist-packages (from ipywidgets<9,>=8->apache-beam[interactive]) (4.0.9)\n",
            "Requirement already satisfied: jupyterlab-widgets~=3.0.9 in /usr/local/lib/python3.10/dist-packages (from ipywidgets<9,>=8->apache-beam[interactive]) (3.0.9)\n",
            "Requirement already satisfied: tzlocal>=1.2 in /usr/local/lib/python3.10/dist-packages (from js2py<1,>=0.74->apache-beam[interactive]) (5.1)\n",
            "Requirement already satisfied: pyjsparser>=2.5.1 in /usr/local/lib/python3.10/dist-packages (from js2py<1,>=0.74->apache-beam[interactive]) (2.7.1)\n",
            "Requirement already satisfied: lxml in /usr/local/lib/python3.10/dist-packages (from nbconvert<8,>=6.2.0->apache-beam[interactive]) (4.9.3)\n",
            "Requirement already satisfied: beautifulsoup4 in /usr/local/lib/python3.10/dist-packages (from nbconvert<8,>=6.2.0->apache-beam[interactive]) (4.11.2)\n",
            "Requirement already satisfied: bleach in /usr/local/lib/python3.10/dist-packages (from nbconvert<8,>=6.2.0->apache-beam[interactive]) (6.1.0)\n",
            "Requirement already satisfied: defusedxml in /usr/local/lib/python3.10/dist-packages (from nbconvert<8,>=6.2.0->apache-beam[interactive]) (0.7.1)\n",
            "Requirement already satisfied: entrypoints>=0.2.2 in /usr/local/lib/python3.10/dist-packages (from nbconvert<8,>=6.2.0->apache-beam[interactive]) (0.4)\n",
            "Requirement already satisfied: jinja2>=3.0 in /usr/local/lib/python3.10/dist-packages (from nbconvert<8,>=6.2.0->apache-beam[interactive]) (3.1.2)\n",
            "Requirement already satisfied: jupyterlab-pygments in /usr/local/lib/python3.10/dist-packages (from nbconvert<8,>=6.2.0->apache-beam[interactive]) (0.2.2)\n",
            "Requirement already satisfied: MarkupSafe>=2.0 in /usr/local/lib/python3.10/dist-packages (from nbconvert<8,>=6.2.0->apache-beam[interactive]) (2.1.3)\n",
            "Requirement already satisfied: mistune<2,>=0.8.1 in /usr/local/lib/python3.10/dist-packages (from nbconvert<8,>=6.2.0->apache-beam[interactive]) (0.8.4)\n",
            "Requirement already satisfied: nbclient>=0.5.0 in /usr/local/lib/python3.10/dist-packages (from nbconvert<8,>=6.2.0->apache-beam[interactive]) (0.8.0)\n",
            "Requirement already satisfied: pandocfilters>=1.4.1 in /usr/local/lib/python3.10/dist-packages (from nbconvert<8,>=6.2.0->apache-beam[interactive]) (1.5.0)\n",
            "Requirement already satisfied: tinycss2 in /usr/local/lib/python3.10/dist-packages (from nbconvert<8,>=6.2.0->apache-beam[interactive]) (1.2.1)\n",
            "Requirement already satisfied: fastjsonschema in /usr/local/lib/python3.10/dist-packages (from nbformat<6,>=5.0.5->apache-beam[interactive]) (2.18.1)\n",
            "Requirement already satisfied: jsonschema>=2.6 in /usr/local/lib/python3.10/dist-packages (from nbformat<6,>=5.0.5->apache-beam[interactive]) (4.19.1)\n",
            "Requirement already satisfied: dnspython<3.0.0,>=1.16.0 in /usr/local/lib/python3.10/dist-packages (from pymongo<5.0.0,>=3.8.0->apache-beam[interactive]) (2.4.2)\n",
            "Requirement already satisfied: charset-normalizer<4,>=2 in /usr/local/lib/python3.10/dist-packages (from requests<3.0.0,>=2.24.0->apache-beam[interactive]) (3.3.0)\n",
            "Requirement already satisfied: idna<4,>=2.5 in /usr/local/lib/python3.10/dist-packages (from requests<3.0.0,>=2.24.0->apache-beam[interactive]) (3.4)\n",
            "Requirement already satisfied: urllib3<3,>=1.21.1 in /usr/local/lib/python3.10/dist-packages (from requests<3.0.0,>=2.24.0->apache-beam[interactive]) (2.0.7)\n",
            "Requirement already satisfied: certifi>=2017.4.17 in /usr/local/lib/python3.10/dist-packages (from requests<3.0.0,>=2.24.0->apache-beam[interactive]) (2023.7.22)\n",
            "Requirement already satisfied: googleapis-common-protos<2.0.dev0,>=1.56.2 in /usr/local/lib/python3.10/dist-packages (from google-api-core[grpc]!=2.0.*,!=2.1.*,!=2.10.*,!=2.2.*,!=2.3.*,!=2.4.*,!=2.5.*,!=2.6.*,!=2.7.*,!=2.8.*,!=2.9.*,<3.0.0dev,>=1.34.0->google-cloud-dataproc<6,>=5.0.0->apache-beam[interactive]) (1.61.0)\n",
            "Requirement already satisfied: google-auth<3.0.dev0,>=2.14.1 in /usr/local/lib/python3.10/dist-packages (from google-api-core[grpc]!=2.0.*,!=2.1.*,!=2.10.*,!=2.2.*,!=2.3.*,!=2.4.*,!=2.5.*,!=2.6.*,!=2.7.*,!=2.8.*,!=2.9.*,<3.0.0dev,>=1.34.0->google-cloud-dataproc<6,>=5.0.0->apache-beam[interactive]) (2.17.3)\n",
            "Requirement already satisfied: grpcio-status<2.0.dev0,>=1.33.2 in /usr/local/lib/python3.10/dist-packages (from google-api-core[grpc]!=2.0.*,!=2.1.*,!=2.10.*,!=2.2.*,!=2.3.*,!=2.4.*,!=2.5.*,!=2.6.*,!=2.7.*,!=2.8.*,!=2.9.*,<3.0.0dev,>=1.34.0->google-cloud-dataproc<6,>=5.0.0->apache-beam[interactive]) (1.48.2)\n",
            "Requirement already satisfied: parso<0.9.0,>=0.8.3 in /usr/local/lib/python3.10/dist-packages (from jedi>=0.16->ipython<9,>=8->apache-beam[interactive]) (0.8.3)\n",
            "Requirement already satisfied: attrs>=22.2.0 in /usr/local/lib/python3.10/dist-packages (from jsonschema>=2.6->nbformat<6,>=5.0.5->apache-beam[interactive]) (23.1.0)\n",
            "Requirement already satisfied: jsonschema-specifications>=2023.03.6 in /usr/local/lib/python3.10/dist-packages (from jsonschema>=2.6->nbformat<6,>=5.0.5->apache-beam[interactive]) (2023.7.1)\n",
            "Requirement already satisfied: referencing>=0.28.4 in /usr/local/lib/python3.10/dist-packages (from jsonschema>=2.6->nbformat<6,>=5.0.5->apache-beam[interactive]) (0.30.2)\n",
            "Requirement already satisfied: rpds-py>=0.7.1 in /usr/local/lib/python3.10/dist-packages (from jsonschema>=2.6->nbformat<6,>=5.0.5->apache-beam[interactive]) (0.10.6)\n",
            "Requirement already satisfied: platformdirs>=2.5 in /usr/local/lib/python3.10/dist-packages (from jupyter-core!=5.0.*,>=4.12->ipykernel<7,>=6->apache-beam[interactive]) (3.11.0)\n",
            "Requirement already satisfied: ptyprocess>=0.5 in /usr/local/lib/python3.10/dist-packages (from pexpect>4.3->ipython<9,>=8->apache-beam[interactive]) (0.7.0)\n",
            "Requirement already satisfied: wcwidth in /usr/local/lib/python3.10/dist-packages (from prompt-toolkit!=3.0.37,<3.1.0,>=3.0.30->ipython<9,>=8->apache-beam[interactive]) (0.2.8)\n",
            "Requirement already satisfied: soupsieve>1.2 in /usr/local/lib/python3.10/dist-packages (from beautifulsoup4->nbconvert<8,>=6.2.0->apache-beam[interactive]) (2.5)\n",
            "Requirement already satisfied: webencodings in /usr/local/lib/python3.10/dist-packages (from bleach->nbconvert<8,>=6.2.0->apache-beam[interactive]) (0.5.1)\n",
            "Requirement already satisfied: executing>=1.2.0 in /usr/local/lib/python3.10/dist-packages (from stack-data->ipython<9,>=8->apache-beam[interactive]) (2.0.0)\n",
            "Requirement already satisfied: asttokens>=2.1.0 in /usr/local/lib/python3.10/dist-packages (from stack-data->ipython<9,>=8->apache-beam[interactive]) (2.4.0)\n",
            "Requirement already satisfied: pure-eval in /usr/local/lib/python3.10/dist-packages (from stack-data->ipython<9,>=8->apache-beam[interactive]) (0.2.2)\n",
            "Requirement already satisfied: cachetools<6.0,>=2.0.0 in /usr/local/lib/python3.10/dist-packages (from google-auth<3.0.dev0,>=2.14.1->google-api-core[grpc]!=2.0.*,!=2.1.*,!=2.10.*,!=2.2.*,!=2.3.*,!=2.4.*,!=2.5.*,!=2.6.*,!=2.7.*,!=2.8.*,!=2.9.*,<3.0.0dev,>=1.34.0->google-cloud-dataproc<6,>=5.0.0->apache-beam[interactive]) (5.3.1)\n",
            "Requirement already satisfied: pyasn1-modules>=0.2.1 in /usr/local/lib/python3.10/dist-packages (from google-auth<3.0.dev0,>=2.14.1->google-api-core[grpc]!=2.0.*,!=2.1.*,!=2.10.*,!=2.2.*,!=2.3.*,!=2.4.*,!=2.5.*,!=2.6.*,!=2.7.*,!=2.8.*,!=2.9.*,<3.0.0dev,>=1.34.0->google-cloud-dataproc<6,>=5.0.0->apache-beam[interactive]) (0.3.0)\n",
            "Requirement already satisfied: rsa<5,>=3.1.4 in /usr/local/lib/python3.10/dist-packages (from google-auth<3.0.dev0,>=2.14.1->google-api-core[grpc]!=2.0.*,!=2.1.*,!=2.10.*,!=2.2.*,!=2.3.*,!=2.4.*,!=2.5.*,!=2.6.*,!=2.7.*,!=2.8.*,!=2.9.*,<3.0.0dev,>=1.34.0->google-cloud-dataproc<6,>=5.0.0->apache-beam[interactive]) (4.9)\n",
            "Requirement already satisfied: pyasn1<0.6.0,>=0.4.6 in /usr/local/lib/python3.10/dist-packages (from pyasn1-modules>=0.2.1->google-auth<3.0.dev0,>=2.14.1->google-api-core[grpc]!=2.0.*,!=2.1.*,!=2.10.*,!=2.2.*,!=2.3.*,!=2.4.*,!=2.5.*,!=2.6.*,!=2.7.*,!=2.8.*,!=2.9.*,<3.0.0dev,>=1.34.0->google-cloud-dataproc<6,>=5.0.0->apache-beam[interactive]) (0.5.0)\n"
          ]
        }
      ],
      "source": [
        "!pip install apache-beam[interactive]"
      ]
    },
    {
      "cell_type": "markdown",
      "source": [
        "# Import necessary libraries:"
      ],
      "metadata": {
        "id": "MqXeiW9U6iFm"
      }
    },
    {
      "cell_type": "code",
      "source": [
        "import apache_beam as beam\n",
        "from apache_beam.options.pipeline_options import PipelineOptions\n",
        "from apache_beam.transforms.window import FixedWindows, SlidingWindows\n",
        "from apache_beam.transforms.trigger import AfterWatermark, AfterProcessingTime, AccumulationMode, Repeatedly"
      ],
      "metadata": {
        "id": "7dYZC9hr6cpc"
      },
      "execution_count": 13,
      "outputs": []
    },
    {
      "cell_type": "markdown",
      "source": [
        "# Defining a basic pipeline:"
      ],
      "metadata": {
        "id": "aeA0Lgbs77NU"
      }
    },
    {
      "cell_type": "code",
      "source": [
        "def basic_pipeline():\n",
        "    options = PipelineOptions()\n",
        "    with beam.Pipeline(options=options) as p:\n",
        "        (p\n",
        "         | beam.Create([1, 2, 3, 4, 5])\n",
        "         | beam.Map(lambda x: x*2)\n",
        "         | beam.io.WriteToText('output.txt')\n",
        "        )\n"
      ],
      "metadata": {
        "id": "IEKy2EPG63Jv"
      },
      "execution_count": 25,
      "outputs": []
    },
    {
      "cell_type": "markdown",
      "source": [
        "# **Composite Transforms:**"
      ],
      "metadata": {
        "id": "EAoXcKkR8Aa-"
      }
    },
    {
      "cell_type": "code",
      "source": [
        "class MultiplyAndFilterEven(beam.PTransform):\n",
        "    def expand(self, pcoll):\n",
        "        return (pcoll\n",
        "                | \"MultiplyByTwo\" >> beam.Map(lambda x: x*2)\n",
        "                | \"FilterEven\" >> beam.Filter(lambda x: x % 2 == 0))"
      ],
      "metadata": {
        "id": "TUeAYl7F8ZY3"
      },
      "execution_count": 28,
      "outputs": []
    },
    {
      "cell_type": "code",
      "source": [
        "options = PipelineOptions()\n",
        "\n",
        "with beam.Pipeline(options=options) as p:\n",
        "    result = (p\n",
        "              | beam.Create([1, 2, 3, 4, 5])\n",
        "              | MultiplyAndFilterEven()\n",
        "              # If you want to see the results in Colab, you can print them:\n",
        "              | beam.Map(print)\n",
        "             )"
      ],
      "metadata": {
        "colab": {
          "base_uri": "https://localhost:8080/"
        },
        "id": "SjST10da8f0f",
        "outputId": "1b8eeb7c-b036-47dc-a88f-28943bd34ed4"
      },
      "execution_count": 29,
      "outputs": [
        {
          "output_type": "stream",
          "name": "stderr",
          "text": [
            "WARNING:apache_beam.options.pipeline_options:Discarding unparseable args: ['-f', '/root/.local/share/jupyter/runtime/kernel-0228e116-39e5-45dd-aef7-14eb03099952.json']\n",
            "WARNING:apache_beam.options.pipeline_options:Discarding unparseable args: ['-f', '/root/.local/share/jupyter/runtime/kernel-0228e116-39e5-45dd-aef7-14eb03099952.json']\n"
          ]
        },
        {
          "output_type": "stream",
          "name": "stdout",
          "text": [
            "2\n",
            "4\n",
            "6\n",
            "8\n",
            "10\n"
          ]
        }
      ]
    },
    {
      "cell_type": "code",
      "source": [
        "!pip install pytz"
      ],
      "metadata": {
        "colab": {
          "base_uri": "https://localhost:8080/"
        },
        "id": "uL03zzqZ_I3T",
        "outputId": "2731fd5d-5a3d-4da5-88a9-a901cb113384"
      },
      "execution_count": 36,
      "outputs": [
        {
          "output_type": "stream",
          "name": "stdout",
          "text": [
            "Requirement already satisfied: pytz in /usr/local/lib/python3.10/dist-packages (2023.3.post1)\n"
          ]
        }
      ]
    },
    {
      "cell_type": "markdown",
      "source": [
        "# **Windowing:**"
      ],
      "metadata": {
        "id": "ENPYq8_N8Cds"
      }
    },
    {
      "cell_type": "code",
      "source": [
        "from datetime import datetime\n",
        "import pytz\n",
        "\n",
        "options = PipelineOptions()\n",
        "\n",
        "with beam.Pipeline(options=options) as p:\n",
        "    result = (p\n",
        "              | beam.Create([(1, \"2023-10-23 12:01:00\"),\n",
        "                             (2, \"2023-10-23 12:02:00\"),\n",
        "                             (3, \"2023-10-23 12:03:00\"),\n",
        "                             (4, \"2023-10-23 12:04:00\"),\n",
        "                             (5, \"2023-10-23 12:05:00\")])  # Example data with timestamps\n",
        "              | \"Add event time\" >> beam.Map(lambda element: beam.window.TimestampedValue(element[0], beam.window.Timestamp.from_utc_datetime(datetime.strptime(element[1], \"%Y-%m-%d %H:%M:%S\").replace(tzinfo=pytz.UTC))))\n",
        "              | 'Apply Windowing' >> beam.WindowInto(FixedWindows(2*60))  # 2-minute windows\n",
        "              | \"Sum elements\" >> beam.CombineGlobally(sum).without_defaults()\n",
        "              | beam.Map(print)\n",
        "             )"
      ],
      "metadata": {
        "colab": {
          "base_uri": "https://localhost:8080/"
        },
        "id": "SSzvuFZ58aPt",
        "outputId": "18cea71e-3c0e-4d5b-fc94-eaeba6b88bc3"
      },
      "execution_count": 37,
      "outputs": [
        {
          "output_type": "stream",
          "name": "stderr",
          "text": [
            "WARNING:apache_beam.options.pipeline_options:Discarding unparseable args: ['-f', '/root/.local/share/jupyter/runtime/kernel-0228e116-39e5-45dd-aef7-14eb03099952.json']\n",
            "WARNING:apache_beam.options.pipeline_options:Discarding unparseable args: ['-f', '/root/.local/share/jupyter/runtime/kernel-0228e116-39e5-45dd-aef7-14eb03099952.json']\n"
          ]
        },
        {
          "output_type": "stream",
          "name": "stdout",
          "text": [
            "1\n",
            "5\n",
            "9\n"
          ]
        }
      ]
    },
    {
      "cell_type": "markdown",
      "source": [
        "# **Triggers:**"
      ],
      "metadata": {
        "id": "TmnleSlw8JlY"
      }
    },
    {
      "cell_type": "code",
      "source": [
        "from apache_beam.transforms.window import FixedWindows\n",
        "from apache_beam.transforms.trigger import AfterCount\n",
        "\n",
        "options = PipelineOptions(flags=['--allow_unsafe_triggers'])\n",
        "\n",
        "with beam.Pipeline(options=options) as p:\n",
        "    result = (p\n",
        "              | beam.Create([(1, \"2023-10-23 12:01:00\"),\n",
        "                             (2, \"2023-10-23 12:01:30\"),\n",
        "                             (3, \"2023-10-23 12:02:00\"),\n",
        "                             (4, \"2023-10-23 12:02:30\"),\n",
        "                             (5, \"2023-10-23 12:03:00\")])  # Example data with timestamps\n",
        "              | beam.Map(lambda element: beam.window.TimestampedValue(element[0], beam.window.Timestamp.from_utc_datetime(datetime.strptime(element[1], \"%Y-%m-%d %H:%M:%S\").replace(tzinfo=pytz.UTC))))\n",
        "              | 'Apply Windowing' >> beam.WindowInto(FixedWindows(2*60), trigger=AfterCount(2), accumulation_mode=beam.transforms.trigger.AccumulationMode.DISCARDING)\n",
        "              | \"Sum elements\" >> beam.CombineGlobally(sum).without_defaults()\n",
        "              | beam.Map(print)\n",
        "             )"
      ],
      "metadata": {
        "colab": {
          "base_uri": "https://localhost:8080/"
        },
        "id": "lvpz8zR78bIl",
        "outputId": "98c574c1-2252-40da-8ef2-52420cc74dc4"
      },
      "execution_count": 40,
      "outputs": [
        {
          "output_type": "stream",
          "name": "stderr",
          "text": [
            "WARNING:apache_beam.transforms.core:GroupByKey: Unsafe trigger `AfterCount(2)` detected (reason: MAY_FINISH). This is being allowed because --allow_unsafe_triggers is set. This could lead to missing or incomplete groups.\n"
          ]
        },
        {
          "output_type": "stream",
          "name": "stdout",
          "text": [
            "3\n",
            "12\n"
          ]
        }
      ]
    },
    {
      "cell_type": "markdown",
      "source": [
        "# **ParDo:**"
      ],
      "metadata": {
        "id": "TaYTUBM48VB-"
      }
    },
    {
      "cell_type": "code",
      "source": [
        "class MultiplyByTwo(beam.DoFn):\n",
        "    def process(self, element):\n",
        "        return [element * 2]\n"
      ],
      "metadata": {
        "id": "iezmY6bN8UwD"
      },
      "execution_count": 41,
      "outputs": []
    },
    {
      "cell_type": "code",
      "source": [
        "options = PipelineOptions()\n",
        "\n",
        "with beam.Pipeline(options=options) as p:\n",
        "    result = (p\n",
        "              | beam.Create([1, 2, 3, 4, 5])\n",
        "              | 'Multiply elements' >> beam.ParDo(MultiplyByTwo())\n",
        "              | beam.Map(print)  # To print the results in Colab\n",
        "             )\n"
      ],
      "metadata": {
        "id": "lBvDuUtmANoC",
        "outputId": "f79f7cb5-d99b-43d7-bda8-de0b55b4ea86",
        "colab": {
          "base_uri": "https://localhost:8080/"
        }
      },
      "execution_count": 42,
      "outputs": [
        {
          "output_type": "stream",
          "name": "stderr",
          "text": [
            "WARNING:apache_beam.options.pipeline_options:Discarding unparseable args: ['-f', '/root/.local/share/jupyter/runtime/kernel-0228e116-39e5-45dd-aef7-14eb03099952.json']\n",
            "WARNING:apache_beam.options.pipeline_options:Discarding unparseable args: ['-f', '/root/.local/share/jupyter/runtime/kernel-0228e116-39e5-45dd-aef7-14eb03099952.json']\n"
          ]
        },
        {
          "output_type": "stream",
          "name": "stdout",
          "text": [
            "2\n",
            "4\n",
            "6\n",
            "8\n",
            "10\n"
          ]
        }
      ]
    }
  ]
}